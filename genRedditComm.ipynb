{
 "cells": [
  {
   "cell_type": "markdown",
   "id": "cdc86e90-5bdf-41fa-afcd-72742021ff4b",
   "metadata": {},
   "source": [
    "# FlyLeads\n",
    "### Webscrapping Google Travel and Generating a Reddit comment\n",
    "1. This Script accepts 1 parameter which is the Post_ID: **python3 genRedditComm.py POST_ID**\n",
    "2. Queries the records from the proc_posts table on the FlyLeads_user.db that match the parameter inputed Post_ID.\n",
    "3. Based on the Destination, web_scrappes google flights for a round-trip flight in the next Friday in 60 days, and returning on Sunday. This action assumes Frankfurt as the departure flight as it is not possible to retrieve the departure zone from the Reddit posts and Frankfurt is considered to be one of the biggest airports in the world.\n",
    "4. Based on the Destination, web_scrappes google hotels for 2-night stay in the next Friday in 60 days, and returning on Sunday.\n",
    "5. With a final dataframe, produces a .txt file that contains the url of the post to be commented on Reddit, and the text content to be used."
   ]
  },
  {
   "cell_type": "code",
   "execution_count": 48,
   "id": "e73a2879-00f0-4280-82e2-b0f5e0a1b7b0",
   "metadata": {},
   "outputs": [],
   "source": [
    "import sys\n",
    "import pandas as pd\n",
    "import sqlite3\n",
    "from flights_scapper import _ScrapeFlight\n",
    "from hotel_scrapper import _ScrapeHotel"
   ]
  },
  {
   "cell_type": "code",
   "execution_count": 53,
   "id": "6c0cdba1-dfd4-42cc-85bc-a2ca9e7bfa38",
   "metadata": {},
   "outputs": [],
   "source": [
    "# Queries proc_posts by post_id\n",
    "def query_proc_posts(post_id):\n",
    "    conn = sqlite3.connect('FlyLeads_user.db')\n",
    "    c = conn.cursor()\n",
    "\n",
    "    sql_query = f\"SELECT Post_ID, URL, Destinations, Requirement \\\n",
    "                  FROM proc_posts \\\n",
    "                  WHERE Post_ID='{post_id}' \\\n",
    "                  AND Destinations IS NOT NULL \\\n",
    "                  AND Requirement IS NOT NULL\"\n",
    "\n",
    "    proc_post_df = pd.read_sql_query(sql_query, conn)\n",
    "\n",
    "    c.close()\n",
    "    conn.close()\n",
    "\n",
    "    return proc_post_df"
   ]
  },
  {
   "cell_type": "code",
   "execution_count": 13,
   "id": "26133ab8-078c-47da-8205-55be93917a31",
   "metadata": {},
   "outputs": [],
   "source": [
    "# Adding flight info to our dataframe\n",
    "def get_flight_price(row):\n",
    "    origin = \"Frankfurt\"\n",
    "    destination = row[\"Destinations\"]\n",
    "\n",
    "    scraper = _ScrapeFlight(origin, destination)\n",
    "    round_trip_price = scraper.scrape()\n",
    "\n",
    "    return round_trip_price\n",
    "\n",
    "\n",
    "def add_flight_columns(df):\n",
    "    df[\"Flight_Price\"] = df.apply(lambda row: get_flight_price(row), axis=1)\n",
    "    return df"
   ]
  },
  {
   "cell_type": "code",
   "execution_count": 15,
   "id": "e235b750-8781-47d1-bf84-4526ed9fc82f",
   "metadata": {},
   "outputs": [],
   "source": [
    "# Adding Hotel info to our dataframe\n",
    "def get_hotel_info(destination):\n",
    "    scraper = _ScrapeHotel(destination)\n",
    "    hotel_name, lowest_price = scraper.scrape()\n",
    "    return hotel_name, lowest_price\n",
    "\n",
    "def add_hotel_columns(df):\n",
    "    df[\"Hotel_Name\"], df[\"Hotel_Price\"] = zip(*df[\"Destinations\"].apply(get_hotel_info))\n",
    "    return df"
   ]
  },
  {
   "cell_type": "code",
   "execution_count": 27,
   "id": "48cb6a79-a3ca-4f56-a2d4-b881cf731824",
   "metadata": {},
   "outputs": [],
   "source": [
    "# Get values per row\n",
    "def get_values(row):\n",
    "    URL = row[\"URL\"]\n",
    "    destination = row[\"Destinations\"]\n",
    "    flight_price = row[\"Flight_Price\"]\n",
    "    hotel_name = row[\"Hotel_Name\"]\n",
    "    hotel_price = row[\"Hotel_Price\"]\n",
    "    travel_restrictions = row[\"Requirement\"]\n",
    "    return URL, destination, flight_price, hotel_name, hotel_price, travel_restrictions"
   ]
  },
  {
   "cell_type": "code",
   "execution_count": 45,
   "id": "29b2ade9-6edc-4c72-a552-fc3c0d9db796",
   "metadata": {},
   "outputs": [],
   "source": [
    "# Generates a .txt file based on the inputs\n",
    "def generate_comment_to_file(post_id, URL, destination, flight_price, hotel_name, hotel_price, travel_restrictions):\n",
    "    file_name = f\"RedditComment_{post_id}_{destination}.txt\"\n",
    "\n",
    "    with open(file_name, 'w') as file:\n",
    "        file.write(f\"URL of the reddit post: {URL}\\n\")\n",
    "        file.write(f\"\\n**Hi!! Do you want to travel to {destination}?**\\n\")\n",
    "        file.write(f\"Fly there for {flight_price} euros\\n\")\n",
    "        file.write(f\"Stay at {hotel_name} for {hotel_price} euros \\n\")\n",
    "\n",
    "        if travel_restrictions:\n",
    "            file.write(\"The **travel restrictions** can be the following:\\n\")\n",
    "            restrictions_list = [restriction.strip() for restriction in travel_restrictions.split(',')]\n",
    "            for restriction in restrictions_list:\n",
    "                file.write(f\"- {restriction}\\n\")\n",
    "        else:\n",
    "            file.write(\"There are no specific travel restrictions for this destination.\\n\")\n",
    "\n",
    "        file.write(\"\\nPlease check the exact restrictions applied to your country before planning your trip.\\n\")\n",
    "        file.write(f\"\\n**TRAVEL HERE: [FlyLeads.com](https://www.flyleads.com/{destination})**\")"
   ]
  },
  {
   "cell_type": "code",
   "execution_count": 46,
   "id": "885aa967-1bd3-44f9-80d2-a8c3b5c532b4",
   "metadata": {},
   "outputs": [],
   "source": [
    "def generate_files(df, post_id):\n",
    "    for index, row in df.iterrows():\n",
    "        if (row[\"Flight_Price\"] is not None) and (row[\"Hotel_Name\"] is not None) and (row[\"Hotel_Price\"] is not None):\n",
    "            URL, destination, flight_price, hotel_name, hotel_price, travel_restrictions = get_values(row)\n",
    "            generate_comment_to_file(post_id, URL, destination, flight_price, hotel_name, hotel_price,\n",
    "                                     travel_restrictions)\n",
    "            print(\"Reddit comment File generated\")\n",
    "        else:\n",
    "            print(\"Select another Post_ID\")"
   ]
  },
  {
   "cell_type": "code",
   "execution_count": null,
   "id": "7877cc62-2c8b-4459-b0cf-1c0dcd3c030c",
   "metadata": {},
   "outputs": [],
   "source": [
    "if __name__ == '__main__':\n",
    "    post_id = sys.argv[1]\n",
    "    df = query_proc_posts(post_id)\n",
    "    df = add_flight_columns(df)\n",
    "    df = add_hotel_columns(df)\n",
    "    generate_files(df, post_id)"
   ]
  }
 ],
 "metadata": {
  "kernelspec": {
   "display_name": "venv",
   "language": "python",
   "name": "venv"
  },
  "language_info": {
   "codemirror_mode": {
    "name": "ipython",
    "version": 3
   },
   "file_extension": ".py",
   "mimetype": "text/x-python",
   "name": "python",
   "nbconvert_exporter": "python",
   "pygments_lexer": "ipython3",
   "version": "3.11.7"
  }
 },
 "nbformat": 4,
 "nbformat_minor": 5
}
