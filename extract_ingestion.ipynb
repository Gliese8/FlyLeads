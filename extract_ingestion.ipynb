{
 "cells": [
  {
   "cell_type": "markdown",
   "id": "2dd54564-e9db-4da6-af9a-47b4d5b1bc53",
   "metadata": {},
   "source": [
    "# FlyLeads\n",
    "### Extracting activity from Reddit subreddits about traveling\n",
    "1. This Script accepts 4 parameters as inputs: 3 for accessing the Reddit API and 1 as the name of subreddit to retrieve the activity of the users: **python3 extract_ingestion.py CLIENT_ID CLIENT_SECRET USER_AGENT SUBREDDIT_NAME**\n",
    "2. Retrieves the info of the last 100 posts in the subreddit inputted\n",
    "3. Manipulates its data in pandas dataframes\n",
    "4. Starts the ETL process by creating a db, and creating inside a table caled raw_reddits where it appends the relevant info "
   ]
  },
  {
   "cell_type": "code",
   "execution_count": 27,
   "id": "2d758f29-2c3c-4eca-b981-1bea928f1e96",
   "metadata": {},
   "outputs": [],
   "source": [
    "#!pip install praw\n",
    "#!pip install pandas"
   ]
  },
  {
   "cell_type": "code",
   "execution_count": 1,
   "id": "0bcc2642-3bc3-455a-8c76-1e6f9414d955",
   "metadata": {},
   "outputs": [],
   "source": [
    "import sys\n",
    "import pandas as pd\n",
    "import praw\n",
    "import datetime\n",
    "import sqlite3"
   ]
  },
  {
   "cell_type": "code",
   "execution_count": 26,
   "id": "be7e1825-3298-4ce5-b71d-c3547b76f1e4",
   "metadata": {},
   "outputs": [],
   "source": [
    "# accessing parameters from CLI\n",
    "def get_parameters():\n",
    "    client_id = sys.argv[1]\n",
    "    client_secret = sys.argv[2]\n",
    "    user_agent = sys.argv[3]\n",
    "    subreddit_name = sys.argv[4]\n",
    "    \n",
    "    return client_id, client_secret, user_agent, subreddit_name"
   ]
  },
  {
   "cell_type": "code",
   "execution_count": 27,
   "id": "fb0e5820-3d27-458d-9228-3c51213d7b07",
   "metadata": {},
   "outputs": [],
   "source": [
    "# Gets 100 posts from a reddit subreddit\n",
    "def get_100_posts(subreddit, client_id, client_secret, user_agent):\n",
    "    reddit = praw.Reddit(client_id=client_id,\n",
    "                         client_secret=client_secret,\n",
    "                         user_agent=user_agent)\n",
    "\n",
    "    subreddit_name = subreddit  # 'travel' 'TravelNoPics'\n",
    "    subreddit = reddit.subreddit(subreddit_name)\n",
    "    posts = subreddit.hot(limit=1)  # Number of Posts\n",
    "\n",
    "    return posts"
   ]
  },
  {
   "cell_type": "code",
   "execution_count": 57,
   "id": "41210fe5-363c-4283-838d-53ed0efa62c9",
   "metadata": {},
   "outputs": [],
   "source": [
    "# Pass the data retrieved to a pandas DataFrame\n",
    "def raw_data_to_df(posts):\n",
    "    reddit_posts_list = []\n",
    "\n",
    "    for post in posts:\n",
    "        post_title = post.title\n",
    "        post_body = post.selftext[:1000]  # Getting only the first 1000 characters\n",
    "        author = post.author.name if post.author else \"[deleted]\"\n",
    "        creation_date_utc = post.created_utc\n",
    "        creation_date = datetime.datetime.fromtimestamp(creation_date_utc, datetime.timezone.utc).strftime('%Y-%m-%d')\n",
    "        score = post.score\n",
    "        num_comments = post.num_comments\n",
    "        url = post.url\n",
    "        over_18 = post.over_18\n",
    "        post_id = post.id\n",
    "\n",
    "        post_dict = {\n",
    "            'Title': post_title,\n",
    "            'Body': post_body,\n",
    "            'Author': author,\n",
    "            'Creation_Date': creation_date,\n",
    "            'Score': score,\n",
    "            'Num_Comments': num_comments,\n",
    "            'URL': url,\n",
    "            'Over_18': over_18,\n",
    "            'Post_ID': post_id\n",
    "        }\n",
    "\n",
    "        reddit_posts_list.append(post_dict)\n",
    "\n",
    "    reddit_posts_df = pd.DataFrame(reddit_posts_list)\n",
    "\n",
    "    return reddit_posts_df"
   ]
  },
  {
   "cell_type": "code",
   "execution_count": 29,
   "id": "13e2b162-2856-4a38-b4d0-462ba4399139",
   "metadata": {},
   "outputs": [],
   "source": [
    "# Function to create a raw_reddits table in the FlyLeads_user.db\n",
    "def create_raw_reddits_table():\n",
    "    # connecting to the FlyLeads_user.db. If not existent, creates an empty db\n",
    "    conn = sqlite3.connect('FlyLeads_user.db')\n",
    "    c = conn.cursor()\n",
    "\n",
    "    # IF NOT EXISTS = only creates a table, if the raw_reddits table doesn't exist\n",
    "    c.execute(\n",
    "        \"CREATE TABLE IF NOT EXISTS raw_reddits(Post_ID TEXT, Title TEXT, Body TEXT, Author TEXT, Creation_Date DATE,\\\n",
    "        Score INTEGER, Num_Comments INTEGER, URL TEXT, Over_18 BOOLEAN)\")\n",
    "\n",
    "    # Closing the connection\n",
    "    c.close()\n",
    "    conn.close()"
   ]
  },
  {
   "cell_type": "code",
   "execution_count": 30,
   "id": "f62d16a6-86fd-4156-b9b6-8b88eb05d14a",
   "metadata": {},
   "outputs": [],
   "source": [
    "# Function to append records to the raw_reddits table in the FlyLeads_user.db\n",
    "def data_entry(df):\n",
    "    # connecting to the db\n",
    "    conn = sqlite3.connect('FlyLeads_user.db')\n",
    "    c = conn.cursor()\n",
    "\n",
    "    # Appends messages to the raw_messages table\n",
    "    df.to_sql(\"raw_reddits\", conn, if_exists=\"append\", index=False)\n",
    "\n",
    "    # closing connection\n",
    "    c.close()\n",
    "    conn.close()"
   ]
  },
  {
   "cell_type": "code",
   "execution_count": null,
   "id": "24029c42-5129-4010-8c2a-e85af3fdda34",
   "metadata": {},
   "outputs": [],
   "source": [
    "if __name__ == '__main__':\n",
    "    # Accessing details from the user from the parameter inputted in the terminal\n",
    "    client_id, client_secret, user_agent, subreddit_name = get_parameters()\n",
    "\n",
    "    # Getting the data into pandas df a reddit API\n",
    "    posts = get_100_posts(subreddit_name, client_id, client_secret, user_agent)\n",
    "    raw_reddits_df = raw_data_to_df(posts)\n",
    "\n",
    "    # Creating the table if not exists in the FlyLeads_user.db\n",
    "    create_raw_reddits_table()\n",
    "\n",
    "    # Adding the raw_reddits_df into the table of the db\n",
    "    data_entry(raw_reddits_df)"
   ]
  },
  {
   "cell_type": "code",
   "execution_count": null,
   "id": "4804dfe0-3e79-421f-ae5b-9be3babe71ad",
   "metadata": {},
   "outputs": [],
   "source": []
  }
 ],
 "metadata": {
  "kernelspec": {
   "display_name": "venv",
   "language": "python",
   "name": "venv"
  },
  "language_info": {
   "codemirror_mode": {
    "name": "ipython",
    "version": 3
   },
   "file_extension": ".py",
   "mimetype": "text/x-python",
   "name": "python",
   "nbconvert_exporter": "python",
   "pygments_lexer": "ipython3",
   "version": "3.11.7"
  }
 },
 "nbformat": 4,
 "nbformat_minor": 5
}
